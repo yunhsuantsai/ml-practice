{
 "cells": [
  {
   "cell_type": "markdown",
   "metadata": {},
   "source": [
    "# Python Maniplulating Data\n",
    "\n",
    "This chapter, you will know how to transform data format to desired format."
   ]
  },
  {
   "cell_type": "markdown",
   "metadata": {},
   "source": [
    "### Indexing DataFrame\n",
    "\n",
    "You can use `df.loc()`, `df.iloc()` to select partial data.\n",
    "\n",
    "There are many ways to query from data, please see following examples."
   ]
  },
  {
   "cell_type": "code",
   "execution_count": null,
   "metadata": {},
   "outputs": [],
   "source": [
    "import pandas as pd\n",
    "\n",
    "pokemon_df = pd.read_csv('./res/pokemon.csv', na_values=['NA'])\n",
    "\n",
    "print(pokemon_df.head())\n",
    "\n",
    "print(pokemon_df['Name'].head())\n",
    "print(pokemon_df[['Name', 'HP']].head())\n",
    "\n",
    "print(pokemon_df.iloc[0])\n",
    "print(pokemon_df.iloc[0:1])\n",
    "print(pokemon_df.iloc[0:1, 0:1])\n",
    "\n",
    "print(pokemon_df.loc[0])\n",
    "print(pokemon_df.loc[0:1])\n",
    "print(pokemon_df.loc[0:1, 'Name': 'HP'].head())"
   ]
  },
  {
   "cell_type": "markdown",
   "metadata": {},
   "source": [
    "### Q: There is an passenger informations of titanic in `./res/titanic.csv`, please read and put it into  DataFrame `titanic_df`. Print only `PassengerId` and `Survived` columns"
   ]
  },
  {
   "cell_type": "code",
   "execution_count": null,
   "metadata": {},
   "outputs": [],
   "source": [
    "# Write your code here\n"
   ]
  },
  {
   "cell_type": "markdown",
   "metadata": {},
   "source": [
    "### Changing Index And Label\n",
    "\n",
    "It is possible for you to use your own index instead of default number index.\n",
    "\n",
    "Having custom index, it is easier for you to filter data, and sort data.\n",
    "\n",
    "There is two ways to setup index.\n",
    "\n",
    "* Call `df.set_index()` directly and input column names.\n",
    "\n",
    "* Add an argument `index_col=['column_name']` when reading file."
   ]
  },
  {
   "cell_type": "code",
   "execution_count": null,
   "metadata": {},
   "outputs": [],
   "source": [
    "import pandas as pd\n",
    "\n",
    "pokemon_df = pd.read_csv('./res/pokemon.csv', na_values=['NA'])\n",
    "print(pokemon_df.head())\n",
    "\n",
    "\n",
    "pokemon_df.set_index(['Name'])\n",
    "print(pokemon_df.head())\n",
    "\n",
    "\n",
    "pokemon_df = pd.read_csv('./res/pokemon.csv', index_col=['Name'], na_values=['NA'])\n",
    "print(pokemon_df.head())"
   ]
  },
  {
   "cell_type": "markdown",
   "metadata": {},
   "source": [
    "It is possible to setup multiple index columns. If you need multiple indices, just select multiple columns.\n",
    "\n",
    "Call `df.sort_index()` to reset order of indices."
   ]
  },
  {
   "cell_type": "code",
   "execution_count": null,
   "metadata": {},
   "outputs": [],
   "source": [
    "pokemon_df = pd.read_csv('./res/pokemon.csv', index_col=['Type 1', 'Type 2'], na_values=['NA'])\n",
    "\n",
    "print(pokemon_df.head())\n",
    "\n",
    "pokemon_df = pokemon_df.sort_index()\n",
    "\n",
    "print(pokemon_df.head())"
   ]
  },
  {
   "cell_type": "markdown",
   "metadata": {},
   "source": [
    "### Q: Read from `./res/titanic.csv` again. This time, use `Survived`, `Pclass` as indices and read it into `titanic_df`"
   ]
  },
  {
   "cell_type": "code",
   "execution_count": null,
   "metadata": {
    "scrolled": true
   },
   "outputs": [],
   "source": [
    "# Write your code here\n"
   ]
  },
  {
   "cell_type": "markdown",
   "metadata": {},
   "source": [
    "### Filtering from multiple indices\n",
    "\n",
    "You can query using `df.loc[]` and input required indices rows. \n",
    "\n",
    "If you want to filter from a range of index, you can use `slice()` function and input indices ranges into it."
   ]
  },
  {
   "cell_type": "code",
   "execution_count": null,
   "metadata": {},
   "outputs": [],
   "source": [
    "print(pokemon_df.info())\n",
    "\n",
    "print(pokemon_df.loc[['Bug', 'Grass']].info())\n",
    "\n",
    "print(pokemon_df.loc[('Bug', 'Electric')].info())\n",
    "\n",
    "print(pokemon_df.loc[(slice('Bug', 'Grass'), slice(None))].info())"
   ]
  },
  {
   "cell_type": "markdown",
   "metadata": {},
   "source": [
    "### Q: Please filter data of `Survived = 1` and `Pclass = 2`  from DataFrame `titanic_df`."
   ]
  },
  {
   "cell_type": "code",
   "execution_count": null,
   "metadata": {},
   "outputs": [],
   "source": [
    "# Write your code here\n"
   ]
  },
  {
   "cell_type": "markdown",
   "metadata": {},
   "source": [
    "### Filtering NaN in DataFrame \n",
    "\n",
    "Using `df.dropna()` to drop NaN rows.\n",
    "\n",
    "Argument `how='any'` will drop a row if any of field is NaN.\n",
    "\n",
    "Argument `how='all'` will drop a row if all of fields are NaN."
   ]
  },
  {
   "cell_type": "code",
   "execution_count": null,
   "metadata": {
    "scrolled": true
   },
   "outputs": [],
   "source": [
    "print(pokemon_df.info())\n",
    "print(pokemon_df.shape)\n",
    "\n",
    "print(pokemon_df[['Name', 'HP']].dropna(how='any').info())\n",
    "print(pokemon_df[['Name', 'HP']].dropna(how='any').shape)\n",
    "\n",
    "print(pokemon_df[['Name', 'HP']].dropna(how='all').info())\n",
    "print(pokemon_df[['Name', 'HP']].dropna(how='all').shape)"
   ]
  },
  {
   "cell_type": "markdown",
   "metadata": {},
   "source": [
    "### Q: Check `df.shape` and `df.info()` of DataFrame `titanic_df`, filter rows if any of field is Nan and check it again."
   ]
  },
  {
   "cell_type": "code",
   "execution_count": null,
   "metadata": {},
   "outputs": [],
   "source": [
    "# Write your code\n"
   ]
  },
  {
   "cell_type": "markdown",
   "metadata": {},
   "source": [
    "### Transforming DataFrame\n",
    "\n",
    "##### apply\n",
    "\n",
    "You can transform dataframe with your own custom function.\n",
    "\n",
    "If you call DataFrame `apply` function, it will input `Pandas Series`, you can use `Series` provided functions to manipulate data."
   ]
  },
  {
   "cell_type": "code",
   "execution_count": null,
   "metadata": {},
   "outputs": [],
   "source": [
    "print(pokemon_df['Type 1'].value_counts())\n",
    "\n",
    "def to_upper_case(series):\n",
    "    return series.str.upper();\n",
    "\n",
    "print(pokemon_df[['Type 1']].apply(to_upper_case).head())"
   ]
  },
  {
   "cell_type": "markdown",
   "metadata": {},
   "source": [
    "##### map and lambda function\n",
    "\n",
    "You can use `map` and `lambda function` to iterate each element in Pandas series.\n",
    "\n",
    "In some simple operation, you can write logic in the lambda function instead of defining a custom function"
   ]
  },
  {
   "cell_type": "code",
   "execution_count": null,
   "metadata": {},
   "outputs": [],
   "source": [
    "print(pokemon_df['Type 1'].value_counts().head())\n",
    "\n",
    "print(pokemon_df['Type 1'].map(lambda type1: type1.upper()).head())"
   ]
  },
  {
   "cell_type": "markdown",
   "metadata": {},
   "source": [
    "### Grouping Data"
   ]
  },
  {
   "cell_type": "markdown",
   "metadata": {},
   "source": [
    "You can do GROUP BY operation on DataFrame and calculate aggregated result.\n",
    "\n",
    "When you call `df.groupby()`, you will get `DataFrameGroupBy` object, which you can do calculation, such as `count()`, `sum()`, `mean()`."
   ]
  },
  {
   "cell_type": "code",
   "execution_count": null,
   "metadata": {},
   "outputs": [],
   "source": [
    "by_type1 = pokemon_df.groupby('Type 1')\n",
    "\n",
    "print(type(by_type1))\n",
    "\n",
    "by_type1_count = by_type1['Name'].count()\n",
    "\n",
    "print(by_type1_count.head())"
   ]
  },
  {
   "cell_type": "markdown",
   "metadata": {},
   "source": [
    "If you want to do multiple calculation on `DataFrameGroupBy` object, you can use `agg` function and add function required into it."
   ]
  },
  {
   "cell_type": "code",
   "execution_count": null,
   "metadata": {},
   "outputs": [],
   "source": [
    "by_type1_hp_boundry = by_type1['HP'].agg(['max', 'min'])\n",
    "\n",
    "by_type1_hp_boundry.head()"
   ]
  },
  {
   "cell_type": "markdown",
   "metadata": {},
   "source": [
    "You can group by a function instead of index or column name."
   ]
  },
  {
   "cell_type": "code",
   "execution_count": null,
   "metadata": {},
   "outputs": [],
   "source": [
    "# group by Attack but unit = 20\n",
    "def get_attack_group(df):\n",
    "    return (df['Attack']%20)*20\n",
    "\n",
    "print(pokemon_df.groupby(get_ad_group(pokemon_df))['#'].count())"
   ]
  },
  {
   "cell_type": "markdown",
   "metadata": {},
   "source": [
    "##### Filling missing data\n",
    "\n",
    "You can use `DataFrameGroupBy.transform()` to convert it to another one.\n",
    "\n",
    "`transform()` will treat each series isolately.\n",
    "\n",
    "You can write custom function, such as filling missing data into mean value."
   ]
  },
  {
   "cell_type": "code",
   "execution_count": null,
   "metadata": {},
   "outputs": [],
   "source": [
    "print(pokemon_df.info())\n",
    "\n",
    "by_type = pokemon_df.groupby(['Type 1'])\n",
    "\n",
    "def impute_mean(series):\n",
    "    return series.fillna(series.mean())\n",
    "    \n",
    "pokemon_df['fillna_hp'] = by_type['HP'].transform(impute_mean)\n",
    "\n",
    "print(pokemon_df.info())\n",
    "\n",
    "pokemon_df[['fillna_hp', 'fillna_attack']] = by_type[['HP', 'Attack']].transform(impute_mean)\n",
    "\n",
    "print(pokemon_df.info())"
   ]
  },
  {
   "cell_type": "markdown",
   "metadata": {},
   "source": [
    "You can use `apply` function for `DataFrameGroupBy` object, with custom functions, you have more flexibility.\n",
    "\n",
    "These functions can be aggregations, transformations or more complex workflows."
   ]
  },
  {
   "cell_type": "code",
   "execution_count": null,
   "metadata": {},
   "outputs": [],
   "source": [
    "by_type = pokemon_df.groupby(['Type 1'])\n",
    "\n",
    "def cal_complex_score(series):\n",
    "    return (series['HP'].max() + series['Attack'].max() + series['Defense'].max()) - \\\n",
    "    (series['HP'].min() + series['Attack'].min() + series['Defense'].min())\n",
    "\n",
    "print(by_type.apply(cal_complex_score).head())"
   ]
  },
  {
   "cell_type": "markdown",
   "metadata": {},
   "source": [
    "### Q: The `Age` column has NaN values in DataFrame `titanic_df`. Please fill them with median values in same `Sex` and `Pclass`  group."
   ]
  },
  {
   "cell_type": "code",
   "execution_count": null,
   "metadata": {},
   "outputs": [],
   "source": [
    "# Write your code here\n"
   ]
  },
  {
   "cell_type": "markdown",
   "metadata": {},
   "source": [
    "##### Filtering data\n",
    "\n",
    "You can use `filter()` and `lambda function` to remove rows in `DataFrameGroupBy` object, it could help you to filter required rows."
   ]
  },
  {
   "cell_type": "code",
   "execution_count": null,
   "metadata": {},
   "outputs": [],
   "source": [
    "by_type = pokemon_df.groupby('Type 1')\n",
    "\n",
    "by_type_filtered_min = by_type.filter(lambda row: row['HP'].min() > 40)\n",
    "\n",
    "print(by_type_filtered_min.head())"
   ]
  },
  {
   "cell_type": "markdown",
   "metadata": {},
   "source": [
    "### Q: Group DataFrame `titanic_df` using column `Pclass` and filter by Pclass which has over than 200 people."
   ]
  },
  {
   "cell_type": "code",
   "execution_count": null,
   "metadata": {},
   "outputs": [],
   "source": [
    "# Write your code here\n"
   ]
  },
  {
   "cell_type": "markdown",
   "metadata": {},
   "source": [
    "### Stacking and Unstacking DataFrame\n",
    "\n",
    "With multi-indices DataFrame, you can use `df.stack()` function to move index into columns. It is easily for people to read or to compare data.\n",
    "\n",
    "You put index you like to show in columns into argument `level`, and everything is done. \n",
    "\n",
    "It is like `df.pivot_table()` function. However, `pivot_table` cannnot handle multi-indices data. "
   ]
  },
  {
   "cell_type": "code",
   "execution_count": null,
   "metadata": {},
   "outputs": [],
   "source": [
    "pokemon_df = pd.read_csv('./res/pokemon.csv', na_values='NA', index_col=['Type 1', 'Type 2'])[['Attack', 'Defense']].head(10)\n",
    "\n",
    "print(pokemon_df)\n",
    "\n",
    "pokemon_max_power_df = pokemon_df.groupby(['Type 1', 'Type 2']).max()\n",
    "\n",
    "print(pokemon_max_power_df)\n",
    "\n",
    "untack_pokemon_max_power_df = pokemon_max_power_df.unstack(level='Type 2')\n",
    "\n",
    "print(untack_pokemon_max_power_df)"
   ]
  },
  {
   "cell_type": "markdown",
   "metadata": {},
   "source": [
    "You can call `df.stack()` to move to original layout."
   ]
  },
  {
   "cell_type": "code",
   "execution_count": null,
   "metadata": {},
   "outputs": [],
   "source": [
    "print(untack_pokemon_max_power_df.stack(level = 'Type 2'))"
   ]
  },
  {
   "cell_type": "markdown",
   "metadata": {},
   "source": [
    "### Q: Group DataFrame `titanic_df` by indices `Survived` and `Pclass`, and find max value of column `Age` and `Fare`. Try to unstack it using  `level =Pclass` and see what you found."
   ]
  },
  {
   "cell_type": "code",
   "execution_count": null,
   "metadata": {},
   "outputs": [],
   "source": [
    "# Write your code here\n"
   ]
  },
  {
   "cell_type": "code",
   "execution_count": null,
   "metadata": {},
   "outputs": [],
   "source": []
  }
 ],
 "metadata": {
  "kernelspec": {
   "display_name": "Python 3",
   "language": "python",
   "name": "python3"
  },
  "language_info": {
   "codemirror_mode": {
    "name": "ipython",
    "version": 3
   },
   "file_extension": ".py",
   "mimetype": "text/x-python",
   "name": "python",
   "nbconvert_exporter": "python",
   "pygments_lexer": "ipython3",
   "version": "3.6.4"
  }
 },
 "nbformat": 4,
 "nbformat_minor": 2
}
