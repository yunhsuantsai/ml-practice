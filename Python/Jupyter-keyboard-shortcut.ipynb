{
 "cells": [
  {
   "cell_type": "markdown",
   "metadata": {},
   "source": [
    "## Jupyter Notebook Keyboard Shortcuts"
   ]
  },
  {
   "cell_type": "markdown",
   "metadata": {},
   "source": [
    "* Jupyter Notebook has two different keyboard input modes:\n",
    "Edit mode - allow you to type code or text into a cell (green cell border)\n",
    "* Command mode - notebook level commands (indecated by a grey cell border with a blue left margin)"
   ]
  },
  {
   "cell_type": "markdown",
   "metadata": {},
   "source": [
    "Toggle between command mode and keyboard mode:\n",
    "* Esc -> Command mode\n",
    "* Enter -> Edit mode"
   ]
  },
  {
   "cell_type": "markdown",
   "metadata": {},
   "source": [
    "### Command mode keyboard shortcuts"
   ]
  },
  {
   "cell_type": "markdown",
   "metadata": {},
   "source": [
    "* **A** insert a new cell above the current (activated) cell\n",
    "* **B** insert a new cell below the current (activated) cell\n",
    "* **M** to change the current cell to _Markdown_\n",
    "* **Y** to change the current cell to _code_\n",
    "* **D-D** (double hit **D**) to delete the current cell\n",
    "* **Z** undo cell deletion\n",
    "* **F** find and replace"
   ]
  },
  {
   "cell_type": "markdown",
   "metadata": {},
   "source": [
    "* **Shift-Enter** run cell and select below\n",
    "* **Ctrl-Enter** run selected cells\n",
    "* **Alt-Enter** run cell and insert below"
   ]
  },
  {
   "cell_type": "markdown",
   "metadata": {},
   "source": [
    "* **I-I** interrupt the kernel"
   ]
  },
  {
   "cell_type": "markdown",
   "metadata": {},
   "source": [
    "Use shift + up/down to select multiple cells and you should able to execute multiple scripts at one go."
   ]
  },
  {
   "cell_type": "code",
   "execution_count": null,
   "metadata": {
    "scrolled": false
   },
   "outputs": [],
   "source": [
    "a = 1\n",
    "print('a is ',a)"
   ]
  },
  {
   "cell_type": "code",
   "execution_count": null,
   "metadata": {},
   "outputs": [],
   "source": [
    "b = 1\n",
    "print('b is ',b)"
   ]
  },
  {
   "cell_type": "code",
   "execution_count": null,
   "metadata": {},
   "outputs": [],
   "source": [
    "c = 1\n",
    "print('c is ',c)"
   ]
  },
  {
   "cell_type": "markdown",
   "metadata": {},
   "source": [
    "### Edit mode shortcuts"
   ]
  },
  {
   "cell_type": "markdown",
   "metadata": {},
   "source": [
    "This is very much like any text editors. Here are some additional ones to mention:"
   ]
  },
  {
   "cell_type": "markdown",
   "metadata": {},
   "source": [
    "* **Ctrl-Backspace** delete word before\n",
    "* **Ctrl-Delete** delete word after"
   ]
  },
  {
   "cell_type": "markdown",
   "metadata": {},
   "source": [
    "Feel free to play around with the following dummy texts."
   ]
  },
  {
   "cell_type": "markdown",
   "metadata": {},
   "source": [
    "_Lorem ipsum dolor sit amet, consectetur adipiscing elit. Nunc sed interdum ex, sed pulvinar tellus. Vivamus nec varius dolor, eget ultricies arcu. Curabitur venenatis elit scelerisque velit auctor tincidunt. Cras leo ante, malesuada at aliquam sit amet, aliquam quis nisl. Nulla in ullamcorper tellus. Suspendisse ut dolor sed massa maximus accumsan in aliquam metus. Interdum et malesuada fames ac ante ipsum primis in faucibus._ \n"
   ]
  },
  {
   "cell_type": "markdown",
   "metadata": {},
   "source": [
    "Cheatsheet is available in the confluence page. You can find it here [Jupyter Keyboard Shortcut Cheatsheet](https://confluence.mfortune.co.uk/display/DABI/Knowledge+Share+Slides?preview=/26821121/26823656/Jupyter%20Notebook%20keyboard%20shortcut%20cheatsheet.PNG)."
   ]
  },
  {
   "cell_type": "markdown",
   "metadata": {},
   "source": [
    "## To type Maths formulae inside Jupyter"
   ]
  },
  {
   "cell_type": "markdown",
   "metadata": {},
   "source": [
    "There are two different ways of typing in Maths formulae in Jupyter, both of which are based on Latex syntax. You can find plenty of commands to type in any formulae you want and some commonly used basics which be covered in this tutorial."
   ]
  },
  {
   "cell_type": "markdown",
   "metadata": {},
   "source": [
    "* The first approach is to type inside a markdown cell (recommended and straightforward)!\n",
    "For example, the Pythagoras theorem: $c = \\sqrt{a^2+b^2}$."
   ]
  },
  {
   "cell_type": "markdown",
   "metadata": {},
   "source": [
    "Definition of (average) lifetime value: $$\\mbox{LTV} = \\frac{(\\mbox{Total Deposit} - \\mbox{Withdrawals})}{\\mbox{Number of players}}$$"
   ]
  },
  {
   "cell_type": "markdown",
   "metadata": {},
   "source": [
    "There are differences (in size and position) between the two expressions because the maths environment is defined in slightly different way. For Pythagoras theorem, it is an **in-line** expression called by single-dollar signs before and after the expression and the second one is a display style maths environment called by double dollar signs. Instead of double dollar sign, you can also enclose the expression with begin-end syntax as shown below:"
   ]
  },
  {
   "cell_type": "markdown",
   "metadata": {},
   "source": [
    "\\begin{equation}\n",
    "\\mathbb P(N(0,1)\\geq 0) = \\frac{1}{\\sqrt{2\\pi}}\\int^\\infty_{0} e^{-2\\pi x} \\mathrm{d}x\n",
    "\\end{equation}"
   ]
  },
  {
   "cell_type": "markdown",
   "metadata": {},
   "source": [
    "* The second approach is to display the expression as a Python output (which I find not so useful somehow). "
   ]
  },
  {
   "cell_type": "code",
   "execution_count": null,
   "metadata": {},
   "outputs": [],
   "source": [
    "from IPython.display import display, Math, Latex\n",
    "display(Math(r'F(k) = \\int_{-\\infty}^{\\infty} f(x) e^{2\\pi i k} dx'))"
   ]
  },
  {
   "cell_type": "markdown",
   "metadata": {},
   "source": [
    "For those who are interested, [this](https://reu.dimacs.rutgers.edu/Symbols.pdf) is a Latex maths symbol cheatsheet for you to refer."
   ]
  }
 ],
 "metadata": {
  "kernelspec": {
   "display_name": "Python 3",
   "language": "python",
   "name": "python3"
  },
  "language_info": {
   "codemirror_mode": {
    "name": "ipython",
    "version": 3
   },
   "file_extension": ".py",
   "mimetype": "text/x-python",
   "name": "python",
   "nbconvert_exporter": "python",
   "pygments_lexer": "ipython3",
   "version": "3.6.4"
  }
 },
 "nbformat": 4,
 "nbformat_minor": 2
}
