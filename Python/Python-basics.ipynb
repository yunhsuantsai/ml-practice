{
 "cells": [
  {
   "cell_type": "markdown",
   "metadata": {},
   "source": [
    "# Python Basics \n",
    "\n",
    "### When to use Python ?\n",
    "\n",
    "* You want to do some quick calculation\n",
    "* Your boss asks you to clean and analyze the results of the latest satisfaction survey.\n",
    "* You want to manipulate data to your expected format\n",
    "* You want to build an fancy website"
   ]
  },
  {
   "cell_type": "markdown",
   "metadata": {},
   "source": [
    "### Running a python code\n",
    "\n",
    "You can do click above `Run` Icon to run a python code "
   ]
  },
  {
   "cell_type": "code",
   "execution_count": null,
   "metadata": {},
   "outputs": [],
   "source": [
    "print(168 + 169)\n",
    "print(168 * 168)"
   ]
  },
  {
   "cell_type": "markdown",
   "metadata": {},
   "source": [
    "### Add comment on python code section\n",
    "\n",
    "Prepend `#` in the beginning to indicate this line is for comment\n",
    "\n",
    "Wrap content with triple-quoted string in the first position in class/function/module "
   ]
  },
  {
   "cell_type": "code",
   "execution_count": null,
   "metadata": {},
   "outputs": [],
   "source": [
    "'''\n",
    "  In the beginning, i am multiple line comments\n",
    "'''\n",
    "\n",
    "# I am one-line comment line\n",
    "\n",
    "print(888 + 888)\n",
    "\n",
    "'''\n",
    "  In the other place, multiple line comments is not working\n",
    "'''"
   ]
  },
  {
   "cell_type": "markdown",
   "metadata": {},
   "source": [
    "^^^ Above red message is an error message, means your python code is not working well"
   ]
  },
  {
   "cell_type": "markdown",
   "metadata": {},
   "source": [
    "### Calculation\n",
    "\n",
    "You can do basic calculation, even for some advanced ones"
   ]
  },
  {
   "cell_type": "code",
   "execution_count": null,
   "metadata": {},
   "outputs": [],
   "source": [
    "# Addition and subtraction\n",
    "print(5 + 5)\n",
    "print(5 - 5)\n",
    "\n",
    "# Multiplication and division\n",
    "print(3 * 5)\n",
    "print(10 / 2)\n",
    "\n",
    "# Exponentiation\n",
    "print(4 ** 3)\n",
    "print(100*1.1**7)\n",
    "\n",
    "# Modulo\n",
    "print(18 % 7)\n",
    "\n",
    "# How much is your $100 worth after 7 years?\n",
    "print(100*1.1**7)"
   ]
  },
  {
   "cell_type": "markdown",
   "metadata": {},
   "source": [
    "### Variables\n",
    "\n",
    "* The value is dynamic, not fixed one\n",
    "* Call up value through variable name\n",
    "* Use underscore-case to name variable\n",
    "\n",
    "### Types\n",
    "\n",
    "Every variable has their own type.\n",
    "\n",
    "* int: integer value, such as 10, 32\n",
    "* float: real value, such as 0.01\n",
    "* str: string, such as 'hello'.\n",
    "* bool: True or False "
   ]
  },
  {
   "cell_type": "code",
   "execution_count": null,
   "metadata": {},
   "outputs": [],
   "source": [
    "height = 1.83\n",
    "weight = 85\n",
    "\n",
    "print(height)\n",
    "print(weight)\n",
    "print(type(height))\n",
    "print(type(weight))\n",
    "\n",
    "bmi = weight/height**2\n",
    "\n",
    "print(bmi)\n",
    "print(type(bmi))\n",
    "\n",
    "is_python_easy = True\n",
    "print(is_python_easy)\n",
    "print(type(is_python_easy))"
   ]
  },
  {
   "cell_type": "markdown",
   "metadata": {},
   "source": [
    "`+` has different meaning for number addition and string concatenation"
   ]
  },
  {
   "cell_type": "code",
   "execution_count": null,
   "metadata": {},
   "outputs": [],
   "source": [
    "greeting_word = 'hi'\n",
    "name = 'will.hsu'\n",
    "\n",
    "print(10 + 10)\n",
    "print(greeting_word + ',' + name)"
   ]
  },
  {
   "cell_type": "markdown",
   "metadata": {},
   "source": [
    "Use `'` or `\"` to wrap string content"
   ]
  },
  {
   "cell_type": "code",
   "execution_count": null,
   "metadata": {},
   "outputs": [],
   "source": [
    "single_quoted_str = 'i am single quoted one'\n",
    "double_quoted_str = \"double quoted one also works\"\n",
    "\n",
    "print(single_quoted_str)\n",
    "print(double_quoted_str)"
   ]
  },
  {
   "cell_type": "markdown",
   "metadata": {},
   "source": [
    "### Type Conversion\n",
    "\n",
    "If variable type is not as your expection. You can convert it manually.\n",
    "\n",
    "Use `str()`, `int()`, `float()`, `bool()` and put variable inside `()` to convert it"
   ]
  },
  {
   "cell_type": "code",
   "execution_count": null,
   "metadata": {},
   "outputs": [],
   "source": [
    "i_am_int_but_delared_as_str = '10'\n",
    "\n",
    "# next line will not work because it is treated as str\n",
    "# print(i_am_int_but_delared_as_str + 10)\n",
    "\n",
    "print(int(i_am_int_but_delared_as_str) + 10)"
   ]
  },
  {
   "cell_type": "markdown",
   "metadata": {},
   "source": [
    "### Q: You deposit ten pounds to bank at each start of year, assume interest rate is 2% per year, how much you will have in the end of 10 years. "
   ]
  },
  {
   "cell_type": "code",
   "execution_count": null,
   "metadata": {},
   "outputs": [],
   "source": [
    "# write your code below\n"
   ]
  },
  {
   "cell_type": "markdown",
   "metadata": {},
   "source": [
    "### List\n",
    "\n",
    "##### Why do we need list?\n",
    "\n",
    "* In data analysis, usaully there are many points, we need to put them in the same group\n",
    "* We don't have to declare multiple variables to save data\n",
    "\n",
    "For example, in the family, we have 4 members, what if we want to calculate their average height?"
   ]
  },
  {
   "cell_type": "code",
   "execution_count": null,
   "metadata": {},
   "outputs": [],
   "source": [
    "papa_height = 175\n",
    "mama_height = 163\n",
    "son_height = 185\n",
    "\n",
    "avg_height = (papa_height + mama_height + son_height)/3\n",
    "print(avg_height)"
   ]
  },
  {
   "cell_type": "markdown",
   "metadata": {},
   "source": [
    "What if we have a new member?\n",
    "\n",
    "We need to create a new variable and modify code in many places"
   ]
  },
  {
   "cell_type": "code",
   "execution_count": null,
   "metadata": {},
   "outputs": [],
   "source": [
    "papa_height = 175\n",
    "mama_height = 163\n",
    "son_height = 185\n",
    "daughter_height = 146\n",
    "\n",
    "avg_height = (papa_height + mama_height + son_height + daughter_height)/4\n",
    "print(avg_height)"
   ]
  },
  {
   "cell_type": "markdown",
   "metadata": {},
   "source": [
    "Another Solution: Use `List`\n",
    "\n",
    "Python List: [a, b, c], use brackets to wrap your elements, and use `,` to separate elements "
   ]
  },
  {
   "cell_type": "code",
   "execution_count": null,
   "metadata": {},
   "outputs": [],
   "source": [
    "family_heights = [175, 163, 185, 146]\n",
    "print(family_heights)"
   ]
  },
  {
   "cell_type": "markdown",
   "metadata": {},
   "source": [
    "If you like, you could put any type value and different types in the same list"
   ]
  },
  {
   "cell_type": "code",
   "execution_count": null,
   "metadata": {},
   "outputs": [],
   "source": [
    "different_types_list = ['papa', 175, 'mama', 163, 'son', 185, 'daughter_height', 146]\n",
    "print(different_types_list)\n",
    "print(type(different_types_list))"
   ]
  },
  {
   "cell_type": "markdown",
   "metadata": {},
   "source": [
    "You could also use nested list to save values"
   ]
  },
  {
   "cell_type": "code",
   "execution_count": null,
   "metadata": {},
   "outputs": [],
   "source": [
    "different_types_list = [['papa', 175,], ['mama', 163,], ['son', 185,], ['daughter_height', 146,],]\n",
    "print(different_types_list)\n",
    "print(type(different_types_list))"
   ]
  },
  {
   "cell_type": "markdown",
   "metadata": {},
   "source": [
    "### Subsetting List\n",
    "\n",
    "Each element has it's index position, starts from 0. Use list[index] syntax to get specific element \n",
    "\n",
    "You can also use negative index to get from end position"
   ]
  },
  {
   "cell_type": "code",
   "execution_count": null,
   "metadata": {},
   "outputs": [],
   "source": [
    "num_list = [30, 20, 10, 0]\n",
    "\n",
    "fst_ele = num_list[0]\n",
    "print(fst_ele)\n",
    "\n",
    "sec_ele = num_list[1]\n",
    "print(sec_ele)\n",
    "\n",
    "last_ele = num_list[-1]\n",
    "print(last_ele)\n",
    "\n",
    "last_two_ele = num_list[-2]\n",
    "print(last_two_ele)"
   ]
  },
  {
   "cell_type": "markdown",
   "metadata": {},
   "source": [
    "The list could be sliced into sub list using `:`, called `list slicing`\n",
    "\n",
    "syntax: list[`start`:`end`]\n",
    "\n",
    "The sub list will contain elements include start position but exclude end one\n",
    "\n",
    "If start is empty, it means start from 0 position. If end is empty, it means end is at last position"
   ]
  },
  {
   "cell_type": "code",
   "execution_count": null,
   "metadata": {},
   "outputs": [],
   "source": [
    "uk_countreis = ['London', 'Birmingham', 'Oxford', 'Cambridge', 'Manchester']\n",
    "\n",
    "print(uk_countreis[1 : 3])\n",
    "print(uk_countreis[2 : -1])\n",
    "\n",
    "print(uk_countreis[:3])\n",
    "print(uk_countreis[2:])"
   ]
  },
  {
   "cell_type": "markdown",
   "metadata": {},
   "source": [
    "### List Manipulation\n",
    "\n",
    "You can modify element in list, add element into list, or remove element from it"
   ]
  },
  {
   "cell_type": "code",
   "execution_count": null,
   "metadata": {},
   "outputs": [],
   "source": [
    "pokemons = ['Charmander', 'spider-man', 'Bulbasaur']\n",
    "print(pokemons)\n",
    "\n",
    "pokemons[1] = 'Squirtle'\n",
    "print(pokemons)\n",
    "\n",
    "pokemons = pokemons + ['Pikachu']\n",
    "print(pokemons)\n",
    "\n",
    "del(pokemons[0])\n",
    "print(pokemons)"
   ]
  },
  {
   "cell_type": "markdown",
   "metadata": {},
   "source": [
    "##### Scene behind list\n",
    "\n",
    "If two variables point to same list, modify any of them will affect another one."
   ]
  },
  {
   "cell_type": "code",
   "execution_count": null,
   "metadata": {},
   "outputs": [],
   "source": [
    "x = [1, 2, 3]\n",
    "# assign x to y\n",
    "y = x\n",
    "y[1] = -2\n",
    "\n",
    "print(x)"
   ]
  },
  {
   "cell_type": "markdown",
   "metadata": {},
   "source": [
    "If you duplicate list to another variable, modify any of them will **not** affect another one.\n",
    "\n",
    "Because x and y are independent list"
   ]
  },
  {
   "cell_type": "code",
   "execution_count": null,
   "metadata": {},
   "outputs": [],
   "source": [
    "x = [1, 2, 3]\n",
    "# duplicate x to y\n",
    "y = list(x)\n",
    "y[1] = -2\n",
    "\n",
    "print(x)"
   ]
  },
  {
   "cell_type": "markdown",
   "metadata": {},
   "source": [
    "### Q: Following list has elements as [1, 2, 3, 4], try to modify it to [1, 3, 5, 7, 9]"
   ]
  },
  {
   "cell_type": "code",
   "execution_count": null,
   "metadata": {},
   "outputs": [],
   "source": [
    "list = [1, 2, 3, 4]\n",
    "# write your code here\n"
   ]
  },
  {
   "cell_type": "markdown",
   "metadata": {},
   "source": [
    "### Functions\n",
    "\n",
    "There is a good saying: \n",
    "\n",
    "> Do not reinventing the wheel twice\n",
    "\n",
    "If other person has built tool for you, just use it.\n",
    "\n",
    "Good news is that you already use it. such as `type()` and `print()`\n",
    "\n",
    "If you want to find a max number in a list, use `max()`"
   ]
  },
  {
   "cell_type": "code",
   "execution_count": null,
   "metadata": {},
   "outputs": [],
   "source": [
    "list = [1, 2, 3, 4]\n",
    "\n",
    "print(max(list))"
   ]
  },
  {
   "cell_type": "markdown",
   "metadata": {},
   "source": [
    "How to find avaible functions?\n",
    "\n",
    "Use `help()` to know more details"
   ]
  },
  {
   "cell_type": "code",
   "execution_count": null,
   "metadata": {},
   "outputs": [],
   "source": [
    "help(max)"
   ]
  },
  {
   "cell_type": "markdown",
   "metadata": {},
   "source": [
    "If you want to sort a list, look how `sorted` works."
   ]
  },
  {
   "cell_type": "code",
   "execution_count": null,
   "metadata": {},
   "outputs": [],
   "source": [
    "help(sorted)"
   ]
  },
  {
   "cell_type": "code",
   "execution_count": null,
   "metadata": {},
   "outputs": [],
   "source": [
    "numbers = [18.0, 11.25, 20.0]\n",
    "\n",
    "numbers = sorted(numbers)\n",
    "print(numbers)\n",
    "\n",
    "numbers = sorted(numbers, reverse=True)\n",
    "print(numbers)"
   ]
  },
  {
   "cell_type": "markdown",
   "metadata": {},
   "source": [
    "### Methods\n",
    "\n",
    "##### What is Object?\n",
    "\n",
    "In python, each variable, no matter what type it is, is an object. \n",
    "\n",
    "str is an object, bool is an object, int is an object, list is an object...etc\n",
    "\n",
    "Method: **Functions that belongs to an object**"
   ]
  },
  {
   "cell_type": "markdown",
   "metadata": {},
   "source": [
    "#### list methods"
   ]
  },
  {
   "cell_type": "code",
   "execution_count": null,
   "metadata": {},
   "outputs": [],
   "source": [
    "pokemons = ['charmander', 'squirtle', 'bulbasaur']\n",
    "print(pokemons)\n",
    "\n",
    "print(pokemons.index('bulbasaur'))\n",
    "print(pokemons.count('bulbasaur'))\n",
    "\n",
    "pokemons.append('Pikachu')\n",
    "print(pokemons)"
   ]
  },
  {
   "cell_type": "markdown",
   "metadata": {},
   "source": [
    "##### str methods"
   ]
  },
  {
   "cell_type": "code",
   "execution_count": null,
   "metadata": {},
   "outputs": [],
   "source": [
    "squirtle = pokemons[1]\n",
    "squirtle = squirtle.capitalize()\n",
    "print(squirtle)\n",
    "\n",
    "squirtle = squirtle.replace('squirtle', 'Pikachu')\n",
    "print(squirtle)\n",
    "print(pokemons)"
   ]
  },
  {
   "cell_type": "markdown",
   "metadata": {},
   "source": [
    "### Modules\n",
    "\n",
    "When you want to use others object's methods, you need to `import` it.\n",
    "\n",
    "currently, the reason functions and methods are working is that it is python default built-in packages\n",
    "\n",
    "\n",
    "\n",
    "We will start to use `numpy` at this moments, it is powerful tool to manipulate list data.\n",
    "\n",
    "However it is not support by python default built-in packages, you need to `import` it first.\n",
    "\n",
    "There are three ways to do import.\n",
    "\n",
    "* simply use `import`\n",
    "* use `import` and `as` to create an alias for specific module\n",
    "* use `from`, `import`, `as` to only import specific methods"
   ]
  },
  {
   "cell_type": "code",
   "execution_count": null,
   "metadata": {},
   "outputs": [],
   "source": [
    "import numpy\n",
    "\n",
    "array_1 = numpy.array([1, 2, 3])\n",
    "print(array_1)\n",
    "\n",
    "\n",
    "import numpy as np\n",
    "\n",
    "array_2 = np.array([4, 5, 6])\n",
    "print(array_2)\n",
    "\n",
    "\n",
    "from numpy import array\n",
    "\n",
    "array_3 = array([7, 8, 9])\n",
    "print(array_3)"
   ]
  },
  {
   "cell_type": "markdown",
   "metadata": {},
   "source": [
    "### Numpy\n",
    "\n",
    "##### Why do we need numpy?\n",
    "\n",
    "Some opeartion are not supported in `List`, take follwoing code as example:"
   ]
  },
  {
   "cell_type": "code",
   "execution_count": null,
   "metadata": {},
   "outputs": [],
   "source": [
    "heights = [1.85, 1.76, 1.42]\n",
    "weights = [85, 59, 39]\n",
    "\n",
    "weights/heights**2"
   ]
  },
  {
   "cell_type": "markdown",
   "metadata": {},
   "source": [
    "##### Numpy remarks\n",
    "\n",
    "Such that, we need `numpy` to help us to do calculation over entire arrays.\n",
    "\n",
    "Alternative to Python List, we use Numpy Array"
   ]
  },
  {
   "cell_type": "code",
   "execution_count": null,
   "metadata": {},
   "outputs": [],
   "source": [
    "import numpy as np\n",
    "\n",
    "heights = [1.85, 1.76, 1.42]\n",
    "weights = [85, 59, 39]\n",
    "\n",
    "np_heights = np.array(heights)\n",
    "np_weights = np.array(weights)\n",
    "\n",
    "np_weights/np_heights**2"
   ]
  },
  {
   "cell_type": "markdown",
   "metadata": {},
   "source": [
    "Numpy Array contain only one type, it will be automatically converted."
   ]
  },
  {
   "cell_type": "code",
   "execution_count": null,
   "metadata": {},
   "outputs": [],
   "source": [
    "import numpy as np\n",
    "\n",
    "multiple_types = np.array([1, \"Im am string\", True])\n",
    "\n",
    "multiple_types"
   ]
  },
  {
   "cell_type": "markdown",
   "metadata": {},
   "source": [
    "If two numpy arrays are added, it is different than two python list."
   ]
  },
  {
   "cell_type": "code",
   "execution_count": null,
   "metadata": {},
   "outputs": [],
   "source": [
    "import numpy as np\n",
    "\n",
    "list_1 = [1, 2, 3]\n",
    "list_2= [1, 2, 3]\n",
    "print(list_1 + list_2)\n",
    "\n",
    "np_array_1 = np.array(list_1)\n",
    "np_array_2 = np.array(list_2)\n",
    "\n",
    "print(np_array_1 + np_array_2)"
   ]
  },
  {
   "cell_type": "markdown",
   "metadata": {},
   "source": [
    "##### Numpy subsetting\n",
    "\n",
    "You can use index or condition to query sub array from numpy array"
   ]
  },
  {
   "cell_type": "code",
   "execution_count": null,
   "metadata": {},
   "outputs": [],
   "source": [
    "import numpy as np\n",
    "\n",
    "bmi = np.array([25, 21, 33, 22])\n",
    "\n",
    "print(bmi[1])\n",
    "\n",
    "print(bmi >= 25)\n",
    "\n",
    "bmi[bmi >= 25]"
   ]
  },
  {
   "cell_type": "markdown",
   "metadata": {},
   "source": [
    "### 2D Numpy Arrays"
   ]
  },
  {
   "cell_type": "code",
   "execution_count": null,
   "metadata": {},
   "outputs": [],
   "source": [
    "import numpy as np\n",
    "\n",
    "heights = [1.85, 1.76, 1.42]\n",
    "weights = [85, 59, 39]\n",
    "\n",
    "np_heights = np.array(heights)\n",
    "np_weights = np.array(weights)\n",
    "\n",
    "print(type(np_heights))\n",
    "print(type(np_weights))"
   ]
  },
  {
   "cell_type": "markdown",
   "metadata": {},
   "source": [
    "`numpy.ndarray` is N-dimensional array, you can create any dimnesional array if you like."
   ]
  },
  {
   "cell_type": "code",
   "execution_count": null,
   "metadata": {},
   "outputs": [],
   "source": [
    "np_2d = np.array([heights, weights])\n",
    "print(np_2d)\n",
    "print(np_2d.shape)"
   ]
  },
  {
   "cell_type": "markdown",
   "metadata": {},
   "source": [
    "You can get any subset from it"
   ]
  },
  {
   "cell_type": "code",
   "execution_count": null,
   "metadata": {},
   "outputs": [],
   "source": [
    "print(np_2d[0])\n",
    "print(np_2d[0][1])\n",
    "print(np_2d[0, 1])\n",
    "print(np_2d[:, 1:3])"
   ]
  },
  {
   "cell_type": "markdown",
   "metadata": {},
   "source": [
    "### Numpy Basic Statistics\n",
    "\n",
    "You can do statistics using numpy, such as `np.mean()`, `np.median()`, `np.sum()`, `np.sort()` , `np.std()`, `np.corrcoef()`... etc."
   ]
  },
  {
   "cell_type": "code",
   "execution_count": null,
   "metadata": {},
   "outputs": [],
   "source": [
    "import numpy as np\n",
    "\n",
    "heights = [1.85, 1.76, 1.42]\n",
    "weights = [85, 59, 39]\n",
    "\n",
    "np_heights = np.array(heights)\n",
    "np_weights = np.array(weights)\n",
    "\n",
    "print(heights)\n",
    "\n",
    "print(np.mean(np_heights))\n",
    "print(np.median(np_heights))\n",
    "print(np.sum(np_heights))\n",
    "print(np.sort(np_heights))\n",
    "print(np.std(np_heights))\n",
    "print(np.corrcoef(np_heights, np_weights))"
   ]
  },
  {
   "cell_type": "markdown",
   "metadata": {},
   "source": [
    "You can also generate data for testing"
   ]
  },
  {
   "cell_type": "code",
   "execution_count": null,
   "metadata": {},
   "outputs": [],
   "source": [
    "height = np.round(np.random.normal(1.75, 0.2, 5000), 2)\n",
    "weight = np.round(np.random.normal(60, 15, 5000), 2)\n",
    "\n",
    "print(height)\n",
    "print(weight)"
   ]
  },
  {
   "cell_type": "markdown",
   "metadata": {},
   "source": [
    "If element type is not as you expected, you can use `astype()` method to convert type"
   ]
  },
  {
   "cell_type": "code",
   "execution_count": null,
   "metadata": {},
   "outputs": [],
   "source": [
    "i_am_numbers = np.array([1, '3', 4])\n",
    "print(i_am_numbers.dtype)\n",
    "\n",
    "i_am_numbers = i_am_numbers.astype(int)\n",
    "print(i_am_numbers.dtype)"
   ]
  },
  {
   "cell_type": "markdown",
   "metadata": {},
   "source": [
    "### Q: Following numpy array contains username, deposit_amount and depoist_date. Please find those deposit_date are greather than or equal to 2018-04-01, and find total deposit_amount of them"
   ]
  },
  {
   "cell_type": "code",
   "execution_count": null,
   "metadata": {},
   "outputs": [],
   "source": [
    "import numpy as np\n",
    "\n",
    "deposits = np.array([\n",
    "    ['johnny', 'will', 'angel', 'fainy', 'tom', 'simon'], \n",
    "    [400, 30, 255, 23, 56, 46],\n",
    "    ['2018-04-02', '2018-03-09', '2018-04-18', '2018-03-12', '2018-03-15', '2018-03-27']\n",
    "])\n",
    "\n",
    "# write your code here"
   ]
  },
  {
   "cell_type": "markdown",
   "metadata": {},
   "source": []
  }
 ],
 "metadata": {
  "kernelspec": {
   "display_name": "Python 3",
   "language": "python",
   "name": "python3"
  },
  "language_info": {
   "codemirror_mode": {
    "name": "ipython",
    "version": 3
   },
   "file_extension": ".py",
   "mimetype": "text/x-python",
   "name": "python",
   "nbconvert_exporter": "python",
   "pygments_lexer": "ipython3",
   "version": "3.6.4"
  }
 },
 "nbformat": 4,
 "nbformat_minor": 2
}
