{
 "cells": [
  {
   "cell_type": "markdown",
   "metadata": {},
   "source": [
    "# Python Intermediates"
   ]
  },
  {
   "cell_type": "markdown",
   "metadata": {},
   "source": [
    "### Comparison Operators\n",
    "\n",
    "* `<` strictly less than\n",
    "* `<=` less then or equal\n",
    "* `>` strictly greater than\n",
    "* `>=` greater than or equal\n",
    "* `==` equal\n",
    "* `!=` not equal"
   ]
  },
  {
   "cell_type": "code",
   "execution_count": null,
   "metadata": {},
   "outputs": [],
   "source": [
    "print(3 > 4)\n",
    "print(3 <= 4)\n",
    "print(3 == 4)"
   ]
  },
  {
   "cell_type": "code",
   "execution_count": null,
   "metadata": {},
   "outputs": [],
   "source": [
    "import numpy as np\n",
    "\n",
    "np_array = np.array([30, 40, 50, 20, 60])\n",
    "\n",
    "print(np_array > 30)\n",
    "\n",
    "print(np_array[np_array > 30])"
   ]
  },
  {
   "cell_type": "markdown",
   "metadata": {},
   "source": [
    "### Boolean Operators"
   ]
  },
  {
   "cell_type": "markdown",
   "metadata": {},
   "source": [
    "##### and"
   ]
  },
  {
   "cell_type": "code",
   "execution_count": null,
   "metadata": {},
   "outputs": [],
   "source": [
    "print(True and True)\n",
    "print(True and False)\n",
    "print(False and True)\n",
    "print(False and False)"
   ]
  },
  {
   "cell_type": "markdown",
   "metadata": {},
   "source": [
    "##### or"
   ]
  },
  {
   "cell_type": "code",
   "execution_count": null,
   "metadata": {},
   "outputs": [],
   "source": [
    "print(True or True)\n",
    "print(True or False)\n",
    "print(False or True)\n",
    "print(False or False)"
   ]
  },
  {
   "cell_type": "markdown",
   "metadata": {},
   "source": [
    "##### not"
   ]
  },
  {
   "cell_type": "code",
   "execution_count": null,
   "metadata": {},
   "outputs": [],
   "source": [
    "print(not True)\n",
    "print(not False and False)\n",
    "print(not (False and False))"
   ]
  },
  {
   "cell_type": "markdown",
   "metadata": {},
   "source": [
    "### Numpy Boolean Operator\n",
    "\n",
    "You can not just use Boolean Operator in Numpy, you should use Numpy method instead.\n",
    "\n",
    "`np.logical_and`\n",
    "\n",
    "`np.logical_or`\n",
    "\n",
    "`np.logical_not`"
   ]
  },
  {
   "cell_type": "code",
   "execution_count": null,
   "metadata": {},
   "outputs": [],
   "source": [
    "import numpy as np\n",
    "\n",
    "np_array = np.array([30, 40, 50, 20, 60])\n",
    "\n",
    "print(np.logical_and(np_array >= 20, np_array < 50))\n",
    "print(np.logical_or(np_array >= 20, np_array < 50))\n",
    "print(np.logical_not(np_array >= 20, np_array < 50))"
   ]
  },
  {
   "cell_type": "markdown",
   "metadata": {},
   "source": [
    "### Import csv using numpy\n",
    "\n",
    "Most of time, we will use data in a file, we need to import data into programs"
   ]
  },
  {
   "cell_type": "code",
   "execution_count": null,
   "metadata": {},
   "outputs": [],
   "source": [
    "from numpy import genfromtxt\n",
    "\n",
    "yearly_registers = genfromtxt('./res/yearly_registers.csv', delimiter=',',  dtype=int, skip_header=1)\n",
    "print(yearly_registers)"
   ]
  },
  {
   "cell_type": "markdown",
   "metadata": {},
   "source": [
    "### Q: Please only show year and  registeres of year from 2010 - 2014 from file `./res/yearly_registers.csv`"
   ]
  },
  {
   "cell_type": "code",
   "execution_count": null,
   "metadata": {},
   "outputs": [],
   "source": [
    "# Write your code here\n",
    "\n"
   ]
  },
  {
   "cell_type": "markdown",
   "metadata": {},
   "source": [
    "### Matplotlib\n",
    "\n",
    "It is a visuliztion tool which could help you explore data and drawing diagrams fastly."
   ]
  },
  {
   "cell_type": "markdown",
   "metadata": {},
   "source": [
    "##### Line chart"
   ]
  },
  {
   "cell_type": "code",
   "execution_count": null,
   "metadata": {},
   "outputs": [],
   "source": [
    "import matplotlib.pyplot as plt\n",
    "\n",
    "year = [1950, 1970, 1990, 2010]\n",
    "\n",
    "world_pop = [2.51, 3.69, 5.26, 6.97]\n",
    "\n",
    "plt.plot(year, world_pop)\n",
    "plt.xlabel('Year')\n",
    "plt.ylabel('registers')\n",
    "plt.title('Yearly Registers Treand')\n",
    "\n",
    "plt.show()"
   ]
  },
  {
   "cell_type": "markdown",
   "metadata": {},
   "source": [
    "##### Scatter chart"
   ]
  },
  {
   "cell_type": "code",
   "execution_count": null,
   "metadata": {},
   "outputs": [],
   "source": [
    "import matplotlib.pyplot as plt\n",
    "\n",
    "year = [1950, 1970, 1990, 2010]\n",
    "\n",
    "world_pop = [2.51, 3.69, 5.26, 6.97]\n",
    "\n",
    "plt.scatter(year, world_pop)\n",
    "plt.xlabel('Year')\n",
    "plt.ylabel('registers')\n",
    "plt.title('Year VS Registers')\n",
    "\n",
    "plt.show()"
   ]
  },
  {
   "cell_type": "markdown",
   "metadata": {},
   "source": [
    "##### Size of scatter chart point\n",
    "\n",
    "You can custimze dot size if you like."
   ]
  },
  {
   "cell_type": "code",
   "execution_count": null,
   "metadata": {},
   "outputs": [],
   "source": [
    "import matplotlib.pyplot as plt\n",
    "\n",
    "year = [1950, 1970, 1990, 2010]\n",
    "\n",
    "world_pop = [2.51, 3.69, 5.26, 6.97]\n",
    "\n",
    "size = [300, 1000, 2000, 100]\n",
    "\n",
    "plt.scatter(year, world_pop, s=size)\n",
    "plt.xlabel('Year')\n",
    "plt.ylabel('registers')\n",
    "plt.title('Year VS Registers')\n",
    "\n",
    "plt.show()"
   ]
  },
  {
   "cell_type": "markdown",
   "metadata": {},
   "source": [
    "### Q: Please use below data to draw an line chart and scatter chart"
   ]
  },
  {
   "cell_type": "code",
   "execution_count": null,
   "metadata": {},
   "outputs": [],
   "source": [
    "from numpy import genfromtxt\n",
    "import matplotlib.pyplot as plt\n",
    "\n",
    "yearly_registers = genfromtxt('./res/yearly_registers.csv', delimiter=',',  dtype=int, skip_header=1)\n",
    "years = yearly_registers[:,0]\n",
    "registers = yearly_registers[:,1]\n",
    "print('years: ' + str(years))\n",
    "print('registers: ' + str(registers))\n",
    "\n",
    "## Write your code here\n"
   ]
  },
  {
   "cell_type": "markdown",
   "metadata": {},
   "source": [
    "##### Histograms\n",
    "\n",
    "It could help to find distribution of your data."
   ]
  },
  {
   "cell_type": "code",
   "execution_count": null,
   "metadata": {},
   "outputs": [],
   "source": [
    "import matplotlib.pyplot as plt\n",
    "\n",
    "help(plt.hist)"
   ]
  },
  {
   "cell_type": "code",
   "execution_count": null,
   "metadata": {},
   "outputs": [],
   "source": [
    "import numpy as np\n",
    "import matplotlib.pyplot as plt\n",
    "\n",
    "\n",
    "random_values = np.round(np.random.normal(30, 0.2, 1000), 2)\n",
    "print(random_values[:10])\n",
    "\n",
    "plt.hist(random_values)\n",
    "plt.xlabel('value')\n",
    "plt.ylabel('count')\n",
    "\n",
    "plt.show()\n",
    "\n",
    "plt.hist(random_values, bins=3)\n",
    "plt.xlabel('value')\n",
    "plt.ylabel('count')\n",
    "\n",
    "plt.show()"
   ]
  },
  {
   "cell_type": "markdown",
   "metadata": {},
   "source": [
    "##### Modify scale\n",
    "\n",
    "Sometimes, your data distribute a lot, you can use `log` to make your grapth looks smoother."
   ]
  },
  {
   "cell_type": "code",
   "execution_count": null,
   "metadata": {},
   "outputs": [],
   "source": [
    "import matplotlib.pyplot as plt\n",
    "\n",
    "x = [10, 20, 30, 40, 50]\n",
    "y = [10, 100000, 40000, 20, 3000]\n",
    "\n",
    "plt.plot(x, y)\n",
    "plt.show()\n",
    "\n",
    "\n",
    "plt.yscale('log')\n",
    "plt.plot(x, y)\n",
    "plt.yticks([10, 100, 1000, 10000, 10000], ['10', '100', '1k', '10k', '100k'])\n",
    "plt.show()"
   ]
  },
  {
   "cell_type": "markdown",
   "metadata": {},
   "source": [
    "### Q: The file in `./res/deposit_amount_vs_games_played.csv` has new depositors deposit amount(first column) and games played number(second column). Please use scatter chart to find whether they have correlation."
   ]
  },
  {
   "cell_type": "code",
   "execution_count": null,
   "metadata": {},
   "outputs": [],
   "source": [
    "## Write your code here\n"
   ]
  },
  {
   "cell_type": "markdown",
   "metadata": {},
   "source": [
    "### Dictionaries\n",
    "\n",
    "Sometimes, `list` could not satisty our need, If there are mapping relationships between two list, what should we do?"
   ]
  },
  {
   "cell_type": "code",
   "execution_count": null,
   "metadata": {},
   "outputs": [],
   "source": [
    "## Each element in countries maps to same index position of players\n",
    "countries = ['United Kingdom', 'South Africa', 'Canada']\n",
    "players = [3843238, 164103, 44942]\n",
    "\n",
    "uk_index = countries.index('United Kingdom')\n",
    "print(uk_index)\n",
    "\n",
    "print(players[uk_index])"
   ]
  },
  {
   "cell_type": "markdown",
   "metadata": {},
   "source": [
    "Use dictionary, `key-value` pair data structure to store it.\n",
    "\n",
    "First, wrap your content with `brackets`.\n",
    "\n",
    "The left side of `colon` is called `key`, right side is called `value`.\n",
    "\n",
    "You can use `key` to get mapped `value`"
   ]
  },
  {
   "cell_type": "code",
   "execution_count": null,
   "metadata": {},
   "outputs": [],
   "source": [
    "players = {\n",
    "    'United Kingdom': 3843238,\n",
    "    'South Africa': 164103,\n",
    "    'Canada': 44942,\n",
    "}\n",
    "\n",
    "print(players['United Kingdom'])"
   ]
  },
  {
   "cell_type": "markdown",
   "metadata": {},
   "source": [
    "The Key have to be `immutable object`, such as `int`, `float`, `bool`, `string`. It cannot be a list.\n",
    "\n",
    "The value could be anything, even another dictionary."
   ]
  },
  {
   "cell_type": "code",
   "execution_count": null,
   "metadata": {},
   "outputs": [],
   "source": [
    "immutable_key_dict = {\n",
    "    1: 'I am int',\n",
    "    0.1: 'I am float',\n",
    "    True: 'I am bool',\n",
    "    'str': 'I am string',\n",
    "}\n",
    "\n",
    "print(immutable_key_dict)\n",
    "\n",
    "unsupported_key_dict = {\n",
    "    [1, 2, 3]: 'I am list'\n",
    "}"
   ]
  },
  {
   "cell_type": "code",
   "execution_count": null,
   "metadata": {},
   "outputs": [],
   "source": [
    "family = {\n",
    "    'papa': {\n",
    "        'height': 178,\n",
    "        'weight': 70,\n",
    "    },\n",
    "    'mama': {\n",
    "        'height': 160,\n",
    "        'weight': 54,\n",
    "    },\n",
    "    'daughter': {\n",
    "        'height': 162,\n",
    "        'weight': 50,\n",
    "    },\n",
    "}\n",
    "\n",
    "print(family)"
   ]
  },
  {
   "cell_type": "markdown",
   "metadata": {},
   "source": [
    "##### Dictionary methods"
   ]
  },
  {
   "cell_type": "code",
   "execution_count": null,
   "metadata": {},
   "outputs": [],
   "source": [
    "family_heights = {\n",
    "    'papa': 178,\n",
    "    'mama': 160,\n",
    "    'daughter': 162,\n",
    "}\n",
    "\n",
    "print('son' in family_heights)\n",
    "print('daughter' in family_heights)\n",
    "\n",
    "print(family_heights['daughter'])\n",
    "family_heights['daughter'] = 165\n",
    "print(family_heights['daughter'])\n",
    "\n",
    "del(family_heights['daughter'])\n",
    "\n",
    "print(family_heights)"
   ]
  },
  {
   "cell_type": "markdown",
   "metadata": {},
   "source": [
    "### Pandas\n",
    "\n",
    "* High level data manipulation tools\n",
    "* Built on `Numpy`\n",
    "* DataFrame contains rows and columns, and each column could have different type.\n",
    "\n",
    "You can create pandas DataFrame from `dictionary`\n",
    "\n",
    "It default will have `index` column, you can set your own index name."
   ]
  },
  {
   "cell_type": "code",
   "execution_count": null,
   "metadata": {},
   "outputs": [],
   "source": [
    "import pandas as pd\n",
    "\n",
    "family = {\n",
    "    'Title': ['papa', 'mama', 'son', 'daughter'],\n",
    "    'Height': [178, 160, 181, 165],\n",
    "    'Weight': [70, 54, 81, 50],\n",
    "}\n",
    "\n",
    "family_df = pd.DataFrame(family)\n",
    "print(family_df)\n",
    "\n",
    "family_df.index = ['p', 'm', 's', 'd']\n",
    "print(family_df)"
   ]
  },
  {
   "cell_type": "markdown",
   "metadata": {},
   "source": [
    "You can use pandas to export and import csv format files."
   ]
  },
  {
   "cell_type": "code",
   "execution_count": null,
   "metadata": {},
   "outputs": [],
   "source": [
    "csv_path = './res/family.csv'\n",
    "family_df.to_csv(csv_path)\n",
    "\n",
    "# Go ./res/family.csv and see the file content\n",
    "\n",
    "family_df_from_csv = pd.read_csv(csv_path, index_col=0)\n",
    "print(family_df_from_csv)\n",
    "\n",
    "\n",
    "# This section is for deleting this csv file, You can comment it out if you want to see file content\n",
    "import os\n",
    "os.remove(csv_path)"
   ]
  },
  {
   "cell_type": "markdown",
   "metadata": {},
   "source": [
    "##### How to Select Data From DataFrame?\n",
    "\n",
    "* Wrap column with another square brackets could help you to get another DataFrame\n",
    "    * Column access\n",
    "        * family_df[['Height']]\n",
    "    * Row access \n",
    "        * family_df[0:1]*\n",
    "* Advanced methods, `loc (label-based)`, `iloc (integer position-based)`\n",
    "    * Row access\n",
    "        * family_df.loc[['p']]\n",
    "    * Column access\n",
    "        * family_df.loc[:, ['Height', 'Weight']]\n",
    "    * Row & Column access: \n",
    "        * family_df.loc[['p'], ['Height', 'Weight']]"
   ]
  },
  {
   "cell_type": "code",
   "execution_count": null,
   "metadata": {},
   "outputs": [],
   "source": [
    "height = family_df['Height']\n",
    "print(height)\n",
    "print(type(height))\n",
    "\n",
    "height = family_df[['Height']]\n",
    "print(height)\n",
    "print(type(height))\n",
    "\n",
    "height = family_df[0:1]\n",
    "print(height)\n",
    "print(type(height))"
   ]
  },
  {
   "cell_type": "markdown",
   "metadata": {},
   "source": [
    "##### Comparison of `DataFrame` and `Sereis`\n",
    "\n",
    "`DataFrame` is a two-dimensional labeled data structure with columns of potentially different types.\n",
    "\n",
    "`Series` is a one-dimensional labeled array capable of holding any data type."
   ]
  },
  {
   "cell_type": "markdown",
   "metadata": {},
   "source": [
    "How to get specific row(s) from Dataframe?"
   ]
  },
  {
   "cell_type": "code",
   "execution_count": null,
   "metadata": {},
   "outputs": [],
   "source": [
    "papa = family_df.loc['p']\n",
    "print(papa)\n",
    "print(type(papa))\n",
    "\n",
    "papa = family_df.loc[['p']]\n",
    "print(papa)\n",
    "print(type(papa))\n",
    "\n",
    "parent = family_df.loc[['p', 'm']]\n",
    "print(parent)\n",
    "print(type(parent))"
   ]
  },
  {
   "cell_type": "markdown",
   "metadata": {},
   "source": [
    "You can select specific columns, rows like the way you do by `Numpy`."
   ]
  },
  {
   "cell_type": "code",
   "execution_count": null,
   "metadata": {},
   "outputs": [],
   "source": [
    "print(family_df.loc[['p', 'm', 's', 'd'], ['Weight', 'Height']])\n",
    "\n",
    "print(family_df.loc[:, ['Weight', 'Height']])"
   ]
  },
  {
   "cell_type": "markdown",
   "metadata": {},
   "source": [
    "iloc is similar to to loc, only difference is that it use `index position` instead of `label name`."
   ]
  },
  {
   "cell_type": "code",
   "execution_count": null,
   "metadata": {},
   "outputs": [],
   "source": [
    "print(family_df.loc[:, ['Weight', 'Height']])\n",
    "\n",
    "print(family_df.iloc[:, [0, 2]])"
   ]
  },
  {
   "cell_type": "markdown",
   "metadata": {},
   "source": [
    "### Q: This time, try to read from `./res/yearly_registers.csv` using `Pandas`, and get only rows 3 and 4"
   ]
  },
  {
   "cell_type": "code",
   "execution_count": null,
   "metadata": {},
   "outputs": [],
   "source": [
    "# Write your code here\n"
   ]
  },
  {
   "cell_type": "markdown",
   "metadata": {},
   "source": [
    "### Filtering Pandas DataFrame\n",
    "\n",
    "You can use `Numpy` similar expression to filter and get sub DataFrame."
   ]
  },
  {
   "cell_type": "code",
   "execution_count": null,
   "metadata": {},
   "outputs": [],
   "source": [
    "import numpy as np\n",
    "import pandas as pd\n",
    "\n",
    "family = {\n",
    "    'Title': ['papa', 'mama', 'son', 'daughter'],\n",
    "    'Height': [178, 160, 181, 165],\n",
    "    'Weight': [70, 54, 81, 50],\n",
    "}\n",
    "\n",
    "family_df = pd.DataFrame(family)\n",
    "print(family_df)\n",
    "\n",
    "family_df.index = ['p', 'm', 's', 'd']\n",
    "\n",
    "is_high = family_df['Height'] >= 178\n",
    "print(is_high)\n",
    "\n",
    "print(family_df[is_high])\n",
    "\n",
    "\n",
    "is_moderate = np.logical_and(family_df['Height'] >= 160, family_df['Height'] <= 170)\n",
    "\n",
    "print(is_moderate)\n",
    "print(family_df[is_moderate])"
   ]
  },
  {
   "cell_type": "markdown",
   "metadata": {},
   "source": [
    "### Q: Try to read from `./res/yearly_registers.csv` using `Pandas`, and get year show rows of year from 2009 - 2014"
   ]
  },
  {
   "cell_type": "code",
   "execution_count": null,
   "metadata": {},
   "outputs": [],
   "source": [
    "## Write your code here\n"
   ]
  },
  {
   "cell_type": "markdown",
   "metadata": {},
   "source": [
    "### Condition Expression\n",
    "\n",
    "`if` could exectue different expression in different situation.\n",
    "\n",
    "```\n",
    "if condition:\n",
    "    expression\n",
    "eif condition:\n",
    "    expression\n",
    "else:\n",
    "    expression\n",
    "```"
   ]
  },
  {
   "cell_type": "code",
   "execution_count": null,
   "metadata": {},
   "outputs": [],
   "source": [
    "v = 4\n",
    "\n",
    "if v%2 == 0:\n",
    "    print('v is even')\n",
    "else:\n",
    "    print('v is odd')"
   ]
  },
  {
   "cell_type": "code",
   "execution_count": null,
   "metadata": {},
   "outputs": [],
   "source": [
    "mood = 'happy'\n",
    "\n",
    "if mood == 'happy':\n",
    "    print('today is my day')\n",
    "elif mood == 'unhappy':\n",
    "    print('today is not my day')\n",
    "else:\n",
    "    print('alright')"
   ]
  },
  {
   "cell_type": "markdown",
   "metadata": {},
   "source": [
    "### For Loop Expression\n",
    "\n",
    "##### while\n",
    "\n",
    "`While` will continue to execute expression until condition is False.\n",
    "\n",
    "```\n",
    "while condition:\n",
    "    expression\n",
    "```"
   ]
  },
  {
   "cell_type": "code",
   "execution_count": null,
   "metadata": {},
   "outputs": [],
   "source": [
    "v = 10\n",
    "\n",
    "while v > 1:\n",
    "    print(v)\n",
    "    v -= 1"
   ]
  },
  {
   "cell_type": "markdown",
   "metadata": {},
   "source": [
    "### for-loop\n",
    "\n",
    "you can loop over a seq(such as `list`) to iterate each element in it.\n",
    "\n",
    "```\n",
    "for var in seq:\n",
    "    expression\n",
    "```"
   ]
  },
  {
   "cell_type": "code",
   "execution_count": null,
   "metadata": {},
   "outputs": [],
   "source": [
    "nums = [1, 2, 3, 3, 5, 6]\n",
    "\n",
    "for num in nums:\n",
    "    print(num)"
   ]
  },
  {
   "cell_type": "markdown",
   "metadata": {},
   "source": [
    "The above example is without index, if you'd like to have index, use following one.\n",
    "\n",
    "```\n",
    "for idx, var in enumerate(seq):\n",
    "    expression\n",
    "```"
   ]
  },
  {
   "cell_type": "code",
   "execution_count": null,
   "metadata": {},
   "outputs": [],
   "source": [
    "nums = [1, 2, 3, 3, 5, 6]\n",
    "\n",
    "for idx, num in enumerate(nums):\n",
    "    print(str(idx) + ':' + str(num))"
   ]
  },
  {
   "cell_type": "markdown",
   "metadata": {},
   "source": [
    "`string` is a seq of char, such that you could also loop over a it."
   ]
  },
  {
   "cell_type": "code",
   "execution_count": null,
   "metadata": {},
   "outputs": [],
   "source": [
    "s = 'Python is great'\n",
    "\n",
    "for ch in s:\n",
    "    print(ch)"
   ]
  },
  {
   "cell_type": "markdown",
   "metadata": {},
   "source": [
    "### Q: Please write code to print all even numbers between 1 to 100, you have to combile `if` and `for-loop` expression to do it."
   ]
  },
  {
   "cell_type": "code",
   "execution_count": null,
   "metadata": {},
   "outputs": [],
   "source": [
    "### Write your code here\n"
   ]
  },
  {
   "cell_type": "markdown",
   "metadata": {},
   "source": [
    "### Looping Data Structure\n",
    "\n",
    "##### Dictionary\n",
    "\n",
    "Use `items()` method in dictionary to loop over by key\n"
   ]
  },
  {
   "cell_type": "code",
   "execution_count": null,
   "metadata": {},
   "outputs": [],
   "source": [
    "players = {\n",
    "    'United Kingdom': 3843238,\n",
    "    'South Africa': 164103,\n",
    "    'Canada': 44942,\n",
    "}\n",
    "\n",
    "for key, value in players.items():\n",
    "    print(key + ':' + str(value))"
   ]
  },
  {
   "cell_type": "markdown",
   "metadata": {},
   "source": [
    "##### Numpy Array\n",
    "\n",
    "You can use similar for-loop to ieterate it."
   ]
  },
  {
   "cell_type": "code",
   "execution_count": null,
   "metadata": {},
   "outputs": [],
   "source": [
    "import numpy as np\n",
    "\n",
    "np_array = np.array([1, 2, 3, 3, 5, 6])\n",
    "\n",
    "print(np_array)\n",
    "\n",
    "for ele in np_array:\n",
    "    print(ele)"
   ]
  },
  {
   "cell_type": "markdown",
   "metadata": {},
   "source": [
    "What about two-dimensional Numpy array?\n",
    "\n",
    "The following for-loop will loop by row."
   ]
  },
  {
   "cell_type": "code",
   "execution_count": null,
   "metadata": {},
   "outputs": [],
   "source": [
    "np_array = np.array([[1, 2, 3, 5, 6], [9, 7, 1, 6, 9]])\n",
    "print(np_array)\n",
    "\n",
    "for row in np_array:\n",
    "    print(row)"
   ]
  },
  {
   "cell_type": "markdown",
   "metadata": {},
   "source": [
    "To iterate each elements in Numpy array, use `nditer` instead.\n"
   ]
  },
  {
   "cell_type": "code",
   "execution_count": null,
   "metadata": {},
   "outputs": [],
   "source": [
    "for ele in np.nditer(np_array):\n",
    "    print(ele)"
   ]
  },
  {
   "cell_type": "markdown",
   "metadata": {},
   "source": [
    "##### Pandas DataFrame\n",
    "\n",
    "Pandas DataFrame is a 2D labeled data structure, you can looping over it by `iterrows()`.\n"
   ]
  },
  {
   "cell_type": "code",
   "execution_count": null,
   "metadata": {},
   "outputs": [],
   "source": [
    "import pandas as pd\n",
    "\n",
    "family = {\n",
    "    'Title': ['papa', 'mama', 'son', 'daughter'],\n",
    "    'Height': [178, 160, 181, 165],\n",
    "    'Weight': [70, 54, 81, 50],\n",
    "}\n",
    "\n",
    "family_df = pd.DataFrame(family)\n",
    "print(family_df)\n",
    "\n",
    "for lab, row in family_df.iterrows():\n",
    "    print(lab)\n",
    "    print(row)"
   ]
  },
  {
   "cell_type": "markdown",
   "metadata": {},
   "source": [
    "You can select specific in row."
   ]
  },
  {
   "cell_type": "code",
   "execution_count": null,
   "metadata": {},
   "outputs": [],
   "source": [
    "for lab, row in family_df.iterrows():\n",
    "    print(lab)\n",
    "    print(row['Height'])"
   ]
  },
  {
   "cell_type": "markdown",
   "metadata": {},
   "source": [
    "By doing for-loop, you can add a new column into it."
   ]
  },
  {
   "cell_type": "code",
   "execution_count": null,
   "metadata": {},
   "outputs": [],
   "source": [
    "print(family_df)\n",
    "\n",
    "for lab, row in family_df.iterrows():\n",
    "    height = row['Height']/100\n",
    "    Weight = row['Weight']\n",
    "    family_df.loc[lab, 'BMI'] = Weight/height**2\n",
    "\n",
    "print(family_df)"
   ]
  },
  {
   "cell_type": "markdown",
   "metadata": {},
   "source": [
    "### Q: Please do following requirements.\n",
    "\n",
    "1. Go to `./res/yearly_registers.csv` and read it into `Pandas DataFrame`\n",
    "2. Add a num column `is_old_members` into it.\n",
    "    * Year before 2010 is called old members\n",
    "3. Output result into `./res/yearly_registers_new.csv`"
   ]
  },
  {
   "cell_type": "code",
   "execution_count": null,
   "metadata": {},
   "outputs": [],
   "source": [
    "# Write your code here\n"
   ]
  },
  {
   "cell_type": "code",
   "execution_count": null,
   "metadata": {},
   "outputs": [],
   "source": []
  }
 ],
 "metadata": {
  "kernelspec": {
   "display_name": "Python 3",
   "language": "python",
   "name": "python3"
  },
  "language_info": {
   "codemirror_mode": {
    "name": "ipython",
    "version": 3
   },
   "file_extension": ".py",
   "mimetype": "text/x-python",
   "name": "python",
   "nbconvert_exporter": "python",
   "pygments_lexer": "ipython3",
   "version": "3.6.4"
  }
 },
 "nbformat": 4,
 "nbformat_minor": 2
}
