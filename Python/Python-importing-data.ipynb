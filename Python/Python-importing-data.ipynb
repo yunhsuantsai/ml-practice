{
 "cells": [
  {
   "cell_type": "markdown",
   "metadata": {},
   "source": [
    "# Python Importing Data\n",
    "\n",
    "This chapter, we will understand how to importing data from different file types."
   ]
  },
  {
   "cell_type": "markdown",
   "metadata": {},
   "source": [
    "### Execute Shell Command in Python\n",
    "\n",
    "Starting a line with `!` gives you complete system shell access.\n"
   ]
  },
  {
   "cell_type": "code",
   "execution_count": null,
   "metadata": {},
   "outputs": [],
   "source": [
    "! ls ."
   ]
  },
  {
   "cell_type": "markdown",
   "metadata": {},
   "source": [
    "### Read From Flat Files\n",
    "\n",
    "Using `open` to manipulate files, and don't forget to `close` it after you finish operation."
   ]
  },
  {
   "cell_type": "code",
   "execution_count": null,
   "metadata": {},
   "outputs": [],
   "source": [
    "file = open('./res/yearly_registers.csv', mode='r')\n",
    "\n",
    "print(file.read())\n",
    "\n",
    "file.close()"
   ]
  },
  {
   "cell_type": "markdown",
   "metadata": {},
   "source": [
    "##### Open Flat Files\n",
    "\n",
    "Use `open` to read file line by line."
   ]
  },
  {
   "cell_type": "code",
   "execution_count": null,
   "metadata": {},
   "outputs": [],
   "source": [
    "file = open('./res/yearly_registers.csv', mode='r')\n",
    "\n",
    "lines = file.readlines()\n",
    "\n",
    "for line in lines:\n",
    "    print(line)\n",
    "\n",
    "file.close()"
   ]
  },
  {
   "cell_type": "markdown",
   "metadata": {},
   "source": [
    "`with` is called `Context Manager`, it could automatically `close` file after execution."
   ]
  },
  {
   "cell_type": "code",
   "execution_count": null,
   "metadata": {},
   "outputs": [],
   "source": [
    "with open('./res/yearly_registers.csv') as file:\n",
    "    print(file.read())"
   ]
  },
  {
   "cell_type": "markdown",
   "metadata": {},
   "source": [
    "##### Use Numpy to Import Flat Files"
   ]
  },
  {
   "cell_type": "markdown",
   "metadata": {},
   "source": [
    "You can use `numpy` and customized arguments, such as `skiprows`, `usecols`, `dtype`, to read from file."
   ]
  },
  {
   "cell_type": "code",
   "execution_count": null,
   "metadata": {},
   "outputs": [],
   "source": [
    "import numpy as np\n",
    "\n",
    "data = np.loadtxt('./res/yearly_registers.csv', delimiter=',', skiprows=1)\n",
    "print(data)\n",
    "data = np.loadtxt('./res/yearly_registers.csv', delimiter=',', skiprows=1, usecols=[0], dtype=int)\n",
    "print(data)"
   ]
  },
  {
   "cell_type": "markdown",
   "metadata": {},
   "source": [
    "If file contains multiple columns with different data types, `loadtxt` will freak at this.\n",
    "\n",
    "You can use `np.genfromtxt()` to handle such strucutres.\n",
    "\n",
    "It contains multiple 1D array, each one has different type.\n",
    "\n",
    "If you use option `dtype=None`, it will detect column types automatically.\n",
    "\n",
    "You can use `data[i]` to query specific rows, and use `data['column_name']` to query specifc columns."
   ]
  },
  {
   "cell_type": "code",
   "execution_count": null,
   "metadata": {},
   "outputs": [],
   "source": [
    "data = np.genfromtxt('./res/yearly_registers.csv', delimiter=',', names=True, dtype=None)\n",
    "print(data['year'])\n",
    "print(type(data['year'][0]))\n",
    "print(data['amount'])\n",
    "print(type(data['amount'][0]))"
   ]
  },
  {
   "cell_type": "markdown",
   "metadata": {},
   "source": [
    "`np.recfromcsv()` behaves similarly to `np.genfromtxt()`, except that its default dtype is None."
   ]
  },
  {
   "cell_type": "code",
   "execution_count": null,
   "metadata": {},
   "outputs": [],
   "source": [
    "data = np.recfromcsv('./res/yearly_registers.csv', names=True)\n",
    "print(data['year'])"
   ]
  },
  {
   "cell_type": "markdown",
   "metadata": {},
   "source": [
    "##### Use Pandas to Import Flat Files"
   ]
  },
  {
   "cell_type": "markdown",
   "metadata": {},
   "source": [
    "Although it is possible for you to import different data types from `numpy`, `dataframe` object is a more appropriate structure to store such data. We can easily do it by `pd.read_csv()`"
   ]
  },
  {
   "cell_type": "code",
   "execution_count": null,
   "metadata": {},
   "outputs": [],
   "source": [
    "import pandas as pd\n",
    "df = pd.read_csv('./res/yearly_registers.csv')\n",
    "print(df.head())"
   ]
  },
  {
   "cell_type": "code",
   "execution_count": null,
   "metadata": {},
   "outputs": [],
   "source": [
    "import pandas as pd\n",
    "\n",
    "df = pd.read_csv('./res/yearly_registers.csv', nrows=3)\n",
    "print(df.head())"
   ]
  },
  {
   "cell_type": "markdown",
   "metadata": {},
   "source": [
    "You can use customized arguments when reading different format file, such as `tsv`. \n",
    "\n",
    "It is possible for you to define comment pattern and na_values pattern"
   ]
  },
  {
   "cell_type": "code",
   "execution_count": null,
   "metadata": {},
   "outputs": [],
   "source": [
    "import pandas as pd\n",
    "df = pd.read_csv('./res/pd_import_test.txt', sep='\\t', comment='#', na_values='None')\n",
    "print(df.head())"
   ]
  },
  {
   "cell_type": "markdown",
   "metadata": {},
   "source": [
    "### Read From Other File Types\n",
    "\n",
    "##### Use Pandas to Import Excel Files\n",
    "\n",
    "You need to install xlrd first to make it works.\n",
    "\n",
    "Run `pip install xlrd` in the termimal\\CMD."
   ]
  },
  {
   "cell_type": "code",
   "execution_count": null,
   "metadata": {},
   "outputs": [],
   "source": [
    "import pandas as pd\n",
    "\n",
    "file = './res/yearly_registers.xlsx'\n",
    "xl = pd.ExcelFile(file)\n",
    "print(xl.sheet_names)\n",
    "\n",
    "df = xl.parse('data')\n",
    "print(df.head())"
   ]
  },
  {
   "cell_type": "markdown",
   "metadata": {},
   "source": [
    "You can use customized arguments to select specics rows, columns, even rename column."
   ]
  },
  {
   "cell_type": "code",
   "execution_count": null,
   "metadata": {},
   "outputs": [],
   "source": [
    "df = xl.parse('data', skiprows=[0], usecols=[1], names=['Registers'])\n",
    "print(df.head())"
   ]
  },
  {
   "cell_type": "code",
   "execution_count": null,
   "metadata": {},
   "outputs": [],
   "source": []
  }
 ],
 "metadata": {
  "kernelspec": {
   "display_name": "Python 3",
   "language": "python",
   "name": "python3"
  },
  "language_info": {
   "codemirror_mode": {
    "name": "ipython",
    "version": 3
   },
   "file_extension": ".py",
   "mimetype": "text/x-python",
   "name": "python",
   "nbconvert_exporter": "python",
   "pygments_lexer": "ipython3",
   "version": "3.6.4"
  }
 },
 "nbformat": 4,
 "nbformat_minor": 2
}
