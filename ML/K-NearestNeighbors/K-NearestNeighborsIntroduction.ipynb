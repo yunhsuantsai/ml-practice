{
 "cells": [
  {
   "cell_type": "markdown",
   "metadata": {},
   "source": [
    "![ml-learning-map](../Introduction/res/ml-learning-map.PNG)\n",
    "\n",
    "### Supervised Learning\n",
    "#### Regression\n",
    "\n",
    "#### Classfication\n",
    "\n",
    "The output of target function $f$ is a `binary` or `multi-class`.\n",
    "\n",
    "* Is this a cat?\n",
    "\n",
    "* Handwriting recognition.\n",
    "\n",
    "* Diagnosis of Breast Tumor Using SVM-KNN Classifier"
   ]
  },
  {
   "cell_type": "markdown",
   "metadata": {},
   "source": [
    "### K-Nearest Neighbors Introduction\n",
    "**k-nearest neighbors algorithm (k-NN)** is a non-parametric method used for classification and regression\n",
    "\n",
    "* k-NN is a type of instance-based learning.\n",
    "\n",
    "\n",
    "* In k-NN classification, the output is a class membership. An object is classified by a majority vote of its neighbors, with the object being assigned to the class most common among its k nearest neighbors.\n",
    "\n",
    "\n",
    "* In k-NN regression, the output is the property value for the object. This value is the average of the values of its k nearest neighbors.\n",
    "#### What group is the green circle?\n",
    "![KnnClassification](./res/KnnClassification.png)\n",
    "\n",
    "k = 3: Red Triangle  \n",
    "k = 5: Blue Square"
   ]
  },
  {
   "cell_type": "markdown",
   "metadata": {},
   "source": [
    "### Algorithm\n",
    "* In the classification phase, **k** is a user-defined constant, and an unlabeled vector (a query or test point) is classified by assigning the label which is most frequent among the k training samples nearest to that query point.\n",
    "\n",
    "\n",
    "* A commonly used distance metric is **Euclidean distance**.\n",
    "\n",
    "\\begin{equation*}\n",
    "f(x_i) = \\sqrt{\\sum_{i=1}^k (x_i - y_i)^2}\n",
    "\\end{equation*}\n",
    "* Majority voting"
   ]
  },
  {
   "cell_type": "markdown",
   "metadata": {},
   "source": [
    "![nearestneigh_1](./res/nearestneigh_1.png)\n",
    "![nearestneigh_20](./res/nearestneigh_20.png)"
   ]
  },
  {
   "cell_type": "markdown",
   "metadata": {},
   "source": [
    "### Potential Problem\n",
    "\n",
    "![kiwi_egg](./res/kiwi_egg.jpg)\n",
    "\n",
    "When the data is not evenly labeled, the \n",
    "e.g. 100 Class 1, 10 Class 2\n",
    "\n",
    "![not_even_data](./res/not_even_data.png)\n"
   ]
  },
  {
   "cell_type": "markdown",
   "metadata": {},
   "source": [
    "#### Distance-weighted kNN\n",
    "\n",
    "* A useful technique can be to assign weight to the contributions of the neighbors, so that the nearer neighbors contribute more to the average than the more distant ones. \n",
    "\n",
    "\n",
    "* A common weighting scheme consists in giving each neighbor a weight of `1/d`, where d is the distance to the neighbor, which give higher weight to closer instances\n",
    "\n",
    "\\begin{equation*}\n",
    "\\hat{f}(x_q) = \\frac{\\sum_{i=1}^k w_i f(x_i)}{\\sum_{i=1}^k w_i} \\text{ with }  w_i = \\frac{1}{d(x_q, x_i)^2}\n",
    "\\end{equation*}"
   ]
  },
  {
   "cell_type": "markdown",
   "metadata": {},
   "source": [
    "#### Advantage of kNN\n",
    "* Simple to understand and easy to implement\n",
    "\n",
    "\n",
    "* KNN works as easily with multiclass data sets.\n",
    "\n",
    "\n",
    "* The non-parametric nature of KNN gives it an edge when the data is highly “unusual”.\n"
   ]
  },
  {
   "cell_type": "markdown",
   "metadata": {},
   "source": [
    "#### Disadvantage of kNN\n",
    "\n",
    "* **Instance Learning** -- requires a training dataset as similiar to the real data. \n",
    "\n",
    "\n",
    "* **Computationally Expensive** -- Need to calculate the distance between each node, which takes time. \n",
    "\n",
    "\n",
    "* The accuracy can be severely degraded with high-dimension data because there is little difference between the nearest and farthest neighbor."
   ]
  }
 ],
 "metadata": {
  "kernelspec": {
   "display_name": "Python 3",
   "language": "python",
   "name": "python3"
  },
  "language_info": {
   "codemirror_mode": {
    "name": "ipython",
    "version": 3
   },
   "file_extension": ".py",
   "mimetype": "text/x-python",
   "name": "python",
   "nbconvert_exporter": "python",
   "pygments_lexer": "ipython3",
   "version": "3.6.4"
  }
 },
 "nbformat": 4,
 "nbformat_minor": 2
}
