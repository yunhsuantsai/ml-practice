{
 "cells": [
  {
   "cell_type": "markdown",
   "metadata": {},
   "source": [
    "# Iris flower data set\n",
    "\n",
    "\n",
    "Dataset contains a set of 150 records under 5 attributes \n",
    "- Petal Length\n",
    "- Petal Width\n",
    "- Sepal Length\n",
    "- Sepal Width\n",
    "- Class (Species) → `Label`\n",
    "\n",
    "![flower_anatomy](./res/flower_anatomy.jpg)\n"
   ]
  },
  {
   "cell_type": "markdown",
   "metadata": {},
   "source": [
    "### Import Libraries and take a general look at the data"
   ]
  },
  {
   "cell_type": "code",
   "execution_count": null,
   "metadata": {},
   "outputs": [],
   "source": [
    "import pandas as pd\n",
    "import numpy as np\n",
    "import seaborn as sns\n",
    "import matplotlib.pyplot as plt\n",
    "\n",
    "iris = pd.read_csv(\"./res/iris.csv\", na_values=['NA'])\n",
    "print (iris.head())\n",
    "print ('\\n')\n",
    "\n",
    "print (iris.info())\n",
    "print ('\\n')\n",
    "\n",
    "print (iris['species'].value_counts())"
   ]
  },
  {
   "cell_type": "markdown",
   "metadata": {},
   "source": [
    "### Visualizing the distribution of a dataset"
   ]
  },
  {
   "cell_type": "code",
   "execution_count": null,
   "metadata": {},
   "outputs": [],
   "source": [
    "sns.distplot(a=iris[\"sepal_length\"],rug=True)\n",
    "sns.FacetGrid(iris, hue=\"species\", size=6)\\\n",
    "    .map(sns.kdeplot, \"sepal_length\")\\\n",
    "    .add_legend()\n",
    "plt.show()"
   ]
  },
  {
   "cell_type": "code",
   "execution_count": null,
   "metadata": {},
   "outputs": [],
   "source": [
    "sns.jointplot(x=\"sepal_length\", y=\"sepal_width\", data=iris, size=5,kind=\"scatter\")\n",
    "plt.show()"
   ]
  },
  {
   "cell_type": "code",
   "execution_count": null,
   "metadata": {},
   "outputs": [],
   "source": [
    "from mpl_toolkits.mplot3d import Axes3D\n",
    "\n",
    "# set colors to keep consistency between Axes3D and seaborn chart\n",
    "colors = {'setosa':'blue', 'versicolor':'orange', 'virginica':'green',\\\n",
    "          'new0':'red', 'new1':'purple'}  #hardcode new color here\n",
    "\n",
    "threedee = plt.figure().gca(projection='3d')\n",
    "threedee.scatter(iris['sepal_length'], iris['sepal_width'], \\\n",
    "                 iris['petal_length'], c=iris['species'].apply(lambda x: colors[x]))\n",
    "threedee.set_xlabel('sepal_length')\n",
    "threedee.set_ylabel('sepal_width')\n",
    "threedee.set_zlabel('petal_length')\n",
    "plt.show()"
   ]
  },
  {
   "cell_type": "markdown",
   "metadata": {},
   "source": [
    "### Visualizing pairwise relationships in a dataset"
   ]
  },
  {
   "cell_type": "code",
   "execution_count": null,
   "metadata": {},
   "outputs": [],
   "source": [
    "sns.pairplot(iris, hue=\"species\",diag_kind=\"kde\")\n",
    "plt.show()"
   ]
  },
  {
   "cell_type": "markdown",
   "metadata": {},
   "source": [
    "### Devide dataset into Training Data and Test Data\n",
    "![Holdout-validation-method](./res/Holdout-validation-method.png)\n",
    "\n",
    "Training Data v.s. Test Data is usually around 80/20, 70/30, or 2/3, 1/3"
   ]
  },
  {
   "cell_type": "code",
   "execution_count": null,
   "metadata": {},
   "outputs": [],
   "source": [
    "from sklearn import model_selection\n",
    "# Devide the dataset into training and test data\n",
    "iris_training, iris_test = model_selection.train_test_split(iris, test_size=0.30, random_state=42)\n",
    "\n",
    "# Separate x and y variables from data\n",
    "iris_training_y = iris_training[\"species\"]\n",
    "iris_training_x = iris_training.drop(\"species\", axis=1)\n",
    "iris_test_y = iris_test[\"species\"]\n",
    "iris_test_x = iris_test.drop(\"species\", axis=1)\n",
    "\n",
    "print ('Training Y')\n",
    "print (iris_training_y.head())\n",
    "print ('\\n')\n",
    "print ('Training X')\n",
    "print (iris_training_x.head())"
   ]
  },
  {
   "cell_type": "markdown",
   "metadata": {},
   "source": [
    "### K-Nearest Neighbor Classifier"
   ]
  },
  {
   "cell_type": "code",
   "execution_count": null,
   "metadata": {},
   "outputs": [],
   "source": [
    "from sklearn import neighbors\n",
    "# KNeighborsClassifier\n",
    "clf = neighbors.KNeighborsClassifier() # Default K is 5\n",
    "clf.fit(X=iris_training_x, y=iris_training_y)\n",
    "print ( \"KNN classifier score: \", clf.score(iris_test_x, iris_test_y))"
   ]
  },
  {
   "cell_type": "markdown",
   "metadata": {},
   "source": [
    "### Loss Functions and Optimization\n",
    "\n",
    "![Optimization Function](./res/Optimization Function.png)"
   ]
  },
  {
   "cell_type": "code",
   "execution_count": null,
   "metadata": {},
   "outputs": [],
   "source": [
    "# Optimization K\n",
    "from sklearn.neighbors import KNeighborsClassifier\n",
    "from sklearn.model_selection import train_test_split, cross_val_score\n",
    "\n",
    "# Loss Function\n",
    "myList = list(range(1,50))\n",
    "\n",
    "# subsetting just the odd ones\n",
    "odd_neighbors = list(filter(lambda x: x % 2 != 0, myList))\n",
    "\n",
    "cv_scores = []\n",
    "for k in odd_neighbors:\n",
    "    knn = KNeighborsClassifier(n_neighbors=k)\n",
    "    scores = cross_val_score(knn, iris_training_x, iris_training_y, cv=10, scoring='accuracy')\n",
    "    cv_scores.append(scores.mean())\n",
    "\n",
    "# changing to misclassification error\n",
    "MSE = [1 - x for x in cv_scores]\n",
    "\n",
    "# determining best k\n",
    "optimal_k = odd_neighbors[MSE.index((min(MSE)))]\n",
    "print (\"The optimal number of neighbors is %d\" % optimal_k)\n",
    "\n",
    "# plot misclassification error vs k\n",
    "plt.plot(odd_neighbors, MSE)\n",
    "plt.xlabel('Number of Neighbors K')\n",
    "plt.ylabel('Misclassification Error')\n",
    "plt.show()"
   ]
  },
  {
   "cell_type": "markdown",
   "metadata": {},
   "source": [
    "### Update the K value to the model"
   ]
  },
  {
   "cell_type": "code",
   "execution_count": null,
   "metadata": {},
   "outputs": [],
   "source": [
    "clf = neighbors.KNeighborsClassifier(11)\n",
    "clf.fit(X=iris_training_x, y=iris_training_y)\n",
    "print ( \"KNN classifier score: \", clf.score(iris_test_x, iris_test_y))"
   ]
  },
  {
   "cell_type": "markdown",
   "metadata": {},
   "source": [
    "### Predict the new points"
   ]
  },
  {
   "cell_type": "code",
   "execution_count": null,
   "metadata": {},
   "outputs": [],
   "source": [
    "new_points=[(5.2, 3.7, 2.2, 1.1),(7.0, 3.3, 5.0, 1.5)]\n",
    "prediction = clf.predict(new_points)\n",
    "prediction_proba = clf.predict_proba(new_points)\n",
    "\n",
    "print (prediction)\n",
    "print (iris['species'].unique())\n",
    "print (prediction_proba)"
   ]
  },
  {
   "cell_type": "markdown",
   "metadata": {},
   "source": [
    "### Check the nearest points"
   ]
  },
  {
   "cell_type": "code",
   "execution_count": null,
   "metadata": {},
   "outputs": [],
   "source": [
    "#kneighbors(X, n_neighbors=N, return_distance=True)\n",
    "nearests = clf.kneighbors([new_points[0]],n_neighbors=5,return_distance=True)  \n",
    "print (nearests)  #Returns [dist(array), index(array)]\n",
    "iris.loc[nearests[1][0]]"
   ]
  },
  {
   "cell_type": "markdown",
   "metadata": {},
   "source": [
    "### Visualize the new points"
   ]
  },
  {
   "cell_type": "code",
   "execution_count": null,
   "metadata": {},
   "outputs": [],
   "source": [
    "new_iris = iris\n",
    "i = 0\n",
    "while i < len(new_points):\n",
    "    new_iris = new_iris.append({'sepal_length':new_points[i][0], 'sepal_width':new_points[i][1], \\\n",
    "                      'petal_length':new_points[i][2], 'petal_width':new_points[i][3], \\\n",
    "                      'species':'new'+str(i)}, ignore_index=True)\n",
    "    i += 1\n",
    "new_iris.tail()"
   ]
  },
  {
   "cell_type": "code",
   "execution_count": null,
   "metadata": {},
   "outputs": [],
   "source": [
    "new_threedee = plt.figure().gca(projection='3d')\n",
    "new_threedee.scatter(new_iris['sepal_length'], new_iris['sepal_width'],\\\n",
    "                     new_iris['petal_length'],c=new_iris['species'].apply(lambda x: colors[x]))\n",
    "new_threedee.set_xlabel('sepal_length')\n",
    "new_threedee.set_ylabel('sepal_width')\n",
    "new_threedee.set_zlabel('petal_length')\n",
    "plt.show()\n",
    "print ('Prediction:\\n'\n",
    "       'Red:', prediction[0] +'\\n'\n",
    "       'Purple:', prediction[1] )"
   ]
  },
  {
   "cell_type": "code",
   "execution_count": null,
   "metadata": {},
   "outputs": [],
   "source": [
    "import warnings\n",
    "warnings.filterwarnings('ignore')\n",
    "\n",
    "sns.pairplot(new_iris, hue=\"species\", diag_kind=\"kde\", markers=[\"o\", \"o\", \"o\", \",\", \",\"])\n",
    "print ('Prediction:\\n'\n",
    "       'Red:', prediction[0] +'\\n'\n",
    "       'Purple:', prediction[1] )\n",
    "plt.show()"
   ]
  }
 ],
 "metadata": {
  "kernelspec": {
   "display_name": "Python 3",
   "language": "python",
   "name": "python3"
  },
  "language_info": {
   "codemirror_mode": {
    "name": "ipython",
    "version": 3
   },
   "file_extension": ".py",
   "mimetype": "text/x-python",
   "name": "python",
   "nbconvert_exporter": "python",
   "pygments_lexer": "ipython3",
   "version": "3.6.4"
  }
 },
 "nbformat": 4,
 "nbformat_minor": 2
}
